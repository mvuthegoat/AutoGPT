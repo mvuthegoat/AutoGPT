{
 "cells": [
  {
   "cell_type": "code",
   "execution_count": 20,
   "id": "3bdc0c75-cb64-401c-8e36-c21902303591",
   "metadata": {},
   "outputs": [
    {
     "name": "stdout",
     "output_type": "stream",
     "text": [
      "💽 Set working directory: /Users/mvu/CS/AutoGPT/autogpts/lilAgent/agbenchmark_config/workspace/c0a4f9c9-5495-40e8-931c-636eb63a3e06\n"
     ]
    }
   ],
   "source": [
    "import os\n",
    "\n",
    "wd = os.path.join(\"/Users/mvu/CS/AutoGPT/autogpts/lilAgent/agbenchmark_config/workspace\", \"c0a4f9c9-5495-40e8-931c-636eb63a3e06\")\n",
    "print(f\"💽 Set working directory: {wd}\")\n",
    "if not os.path.exists(wd):\n",
    "    os.makedirs(wd)\n",
    "os.chdir(wd)\n",
    "\n",
    "files = {f:os.path.getmtime(os.path.join(wd, f)) for f in os.listdir(wd) if os.path.isfile(os.path.join(wd, f))}"
   ]
  },
  {
   "cell_type": "code",
   "execution_count": 21,
   "id": "9e0a8d6f-4137-4ca1-bfb0-195fdd6d3318",
   "metadata": {},
   "outputs": [
    {
     "data": {
      "text/plain": [
       "{'task_content.txt': 1698519137.6773148,\n",
       " 'webpage_content.txt': 1698519177.0005505,\n",
       " 'web_text.txt': 1698519262.300175}"
      ]
     },
     "execution_count": 21,
     "metadata": {},
     "output_type": "execute_result"
    }
   ],
   "source": [
    "files"
   ]
  },
  {
   "cell_type": "code",
   "execution_count": 24,
   "id": "79109b1d-c5df-4860-b6ea-da314c61e129",
   "metadata": {},
   "outputs": [
    {
     "data": {
      "text/plain": [
       "1698519137.6773148"
      ]
     },
     "execution_count": 24,
     "metadata": {},
     "output_type": "execute_result"
    }
   ],
   "source": [
    "files.get(\"task_content.txt\", 0)"
   ]
  },
  {
   "cell_type": "code",
   "execution_count": 25,
   "id": "5d44305e-62f0-410b-8ce7-4f4088b8977c",
   "metadata": {},
   "outputs": [
    {
     "data": {
      "text/plain": [
       "1698519137.6773148"
      ]
     },
     "execution_count": 25,
     "metadata": {},
     "output_type": "execute_result"
    }
   ],
   "source": [
    "files.get(\"task_content.txt\", \"\")"
   ]
  },
  {
   "cell_type": "code",
   "execution_count": 22,
   "id": "5a1da49c-f24b-4871-9a9e-322a548f492f",
   "metadata": {},
   "outputs": [
    {
     "name": "stdout",
     "output_type": "stream",
     "text": [
      "🗒️ Create artifact task_content.txt\n",
      "🗒️ Create artifact webpage_content.txt\n",
      "🗒️ Create artifact web_text.txt\n"
     ]
    }
   ],
   "source": [
    "for file_path in os.listdir(os.getcwd()):\n",
    "    # skip directories\n",
    "    if os.path.isdir(os.path.join(wd, file_path)):\n",
    "        continue\n",
    "    if files.get(file_path, \"\") != \"\" or files.get(file_path, 0) != os.path.getmtime(os.path.join(wd, file_path)):\n",
    "       print(f\"🗒️ Create artifact {file_path}\")"
   ]
  },
  {
   "cell_type": "code",
   "execution_count": 26,
   "id": "8a708089-6934-45db-bbfe-71e0dc4ac463",
   "metadata": {},
   "outputs": [
    {
     "name": "stdout",
     "output_type": "stream",
     "text": [
      "yay\n"
     ]
    }
   ],
   "source": [
    "a = [1,2,3,4]\n",
    "\n",
    "if 5 not in a:\n",
    "    print(\"yay\")"
   ]
  },
  {
   "cell_type": "code",
   "execution_count": 28,
   "id": "56120f47-eb01-4608-aae9-1d6cbe9950db",
   "metadata": {},
   "outputs": [
    {
     "name": "stdout",
     "output_type": "stream",
     "text": [
      "{\n",
      "    \"ability\": {\n",
      "        \"name\": \"ability name\",\n",
      "        \"args\": {\n",
      "            \"arg1\": \"value1\"\n",
      "        }\n",
      "    }\n",
      "}\n"
     ]
    }
   ],
   "source": [
    "import json\n",
    "\n",
    "# Define the JSON structure as a dictionary\n",
    "json_data = {\n",
    "    \"ability\": {\n",
    "        \"name\": \"ability name\",\n",
    "        \"args\": {\n",
    "            \"arg1\": \"value1\",\n",
    "            # Add more key-value pairs here if needed\n",
    "        }\n",
    "    }\n",
    "}\n",
    "\n",
    "# Convert the dictionary to a JSON string\n",
    "json_data = json.dumps(json_data, indent=4)\n",
    "\n",
    "# Print the JSON string\n",
    "print(json_data)"
   ]
  },
  {
   "cell_type": "code",
   "execution_count": 35,
   "id": "df5717fc-2bd9-4b32-a608-2059884d1c62",
   "metadata": {},
   "outputs": [
    {
     "name": "stdout",
     "output_type": "stream",
     "text": [
      "fyc\n"
     ]
    }
   ],
   "source": [
    "dict = {\"finish\": \"lmao\", \"run_web\": \"dcmm\"}\n",
    "dict.keys()\n",
    "\n",
    "if \"finish\" in dict.keys():\n",
    "    print(\"fyc\")"
   ]
  },
  {
   "cell_type": "code",
   "execution_count": 45,
   "id": "0e4fa2e5-9b5c-4907-a47f-ef7876d5ab97",
   "metadata": {},
   "outputs": [],
   "source": [
    "from pathlib import Path\n",
    "base_path = Path(\"/Users/mvu/CS/AutoGPT/autogpts/lilAgent/agbenchmark_config/workspace\")\n",
    "path = Path(\"directory_path_to_be_provided\")\n",
    "task_id = Path(\"7b0bd1c8-736c-4827-a87a-28eb73dd1e9d\")"
   ]
  },
  {
   "cell_type": "code",
   "execution_count": 54,
   "id": "4951cc06-707d-40d5-b3f0-1129ed6c3f5d",
   "metadata": {},
   "outputs": [
    {
     "name": "stdout",
     "output_type": "stream",
     "text": [
      "/Users/mvu/CS/AutoGPT/autogpts/lilAgent/agbenchmark_config/workspace/7b0bd1c8-736c-4827-a87a-28eb73dd1e9d/directory_path_to_be_provided\n",
      "/Users/mvu/CS/AutoGPT/autogpts/lilAgent/agbenchmark_config/workspace/7b0bd1c8-736c-4827-a87a-28eb73dd1e9d/directory_path_to_be_provided\n"
     ]
    }
   ],
   "source": [
    "def _resolve_path(task_id: str, path: str) -> Path:\n",
    "    path = str(path)\n",
    "    path = path if not path.startswith(\"/\") else path[1:]\n",
    "    abs_path = (base_path / task_id / path).resolve()\n",
    "    if not str(abs_path).startswith(str(base_path)):\n",
    "        print(\"Error\")\n",
    "        raise ValueError(f\"Directory traversal is not allowed! - {abs_path}\")\n",
    "    try:\n",
    "        abs_path.parent.mkdir(parents=True, exist_ok=True)\n",
    "    except FileExistsError:\n",
    "        pass\n",
    "    return abs_path\n",
    "\n",
    "abs_path = (base_path / task_id / path).resolve()\n",
    "print(abs_path)\n",
    "abs_path.parent.mkdir(parents=True, exist_ok=True)\n",
    "print(abs_path)"
   ]
  },
  {
   "cell_type": "code",
   "execution_count": 55,
   "id": "bd35e568-c075-4f15-a369-c1e641db270d",
   "metadata": {},
   "outputs": [
    {
     "name": "stdout",
     "output_type": "stream",
     "text": [
      "PATH?? /Users/mvu/CS/AutoGPT/autogpts/lilAgent/agbenchmark_config/workspace/7b0bd1c8-736c-4827-a87a-28eb73dd1e9d/directory_path_to_be_provided\n",
      "BASE???? /Users/mvu/CS/AutoGPT/autogpts/lilAgent/agbenchmark_config/workspace/7b0bd1c8-736c-4827-a87a-28eb73dd1e9d/directory_path_to_be_provided\n"
     ]
    }
   ],
   "source": [
    "path = base_path / task_id / path\n",
    "print(f\"PATH?? {path}\")\n",
    "base = _resolve_path(task_id, \"directory_path_to_be_provided\")\n",
    "print(f\"BASE???? {base}\")"
   ]
  },
  {
   "cell_type": "code",
   "execution_count": null,
   "id": "b30910a7-309a-47f6-8548-29ad5d613ffa",
   "metadata": {},
   "outputs": [],
   "source": []
  }
 ],
 "metadata": {
  "kernelspec": {
   "display_name": "Python 3 (ipykernel)",
   "language": "python",
   "name": "python3"
  },
  "language_info": {
   "codemirror_mode": {
    "name": "ipython",
    "version": 3
   },
   "file_extension": ".py",
   "mimetype": "text/x-python",
   "name": "python",
   "nbconvert_exporter": "python",
   "pygments_lexer": "ipython3",
   "version": "3.11.5"
  }
 },
 "nbformat": 4,
 "nbformat_minor": 5
}
